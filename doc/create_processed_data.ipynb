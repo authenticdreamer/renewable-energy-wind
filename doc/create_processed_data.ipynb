{
 "cells": [
  {
   "cell_type": "code",
   "execution_count": 1,
   "metadata": {},
   "outputs": [],
   "source": [
    "import sys\n",
    "\n",
    "sys.path.append(\"./../src/\")\n",
    "\n",
    "import data_loader as dl\n",
    "\n",
    "\n",
    "dl.load_kelmarsh_data(from_raw=True)\n",
    "dl.load_uebb_data(from_raw=True)\n",
    "dl.load_ueps_data(from_raw=True)\n",
    "\n",
    "print(\"Loaded data was saved to the doc/processed/ folder\")"
   ]
  }
 ],
 "metadata": {
  "kernelspec": {
   "display_name": "renew",
   "language": "python",
   "name": "python3"
  },
  "language_info": {
   "codemirror_mode": {
    "name": "ipython",
    "version": 3
   },
   "file_extension": ".py",
   "mimetype": "text/x-python",
   "name": "python",
   "nbconvert_exporter": "python",
   "pygments_lexer": "ipython3",
   "version": "3.11.3"
  },
  "orig_nbformat": 4
 },
 "nbformat": 4,
 "nbformat_minor": 2
}
